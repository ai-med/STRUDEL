{
 "cells": [
  {
   "cell_type": "code",
   "execution_count": 3,
   "metadata": {},
   "outputs": [],
   "source": [
    "import sys \n",
    "import os\n",
    "import nibabel as nib\n",
    "import numpy as np\n",
    "import matplotlib.pyplot as plt\n",
    "import nrrd\n",
    "sys.path.insert(0, '/home/fabi/git/STRUDEL/')\n",
    "from utils.metrics import *\n",
    "from utils.common import *\n",
    "from utils.metrics_chl import *\n",
    "from numpy import loadtxt"
   ]
  },
  {
   "cell_type": "code",
   "execution_count": 4,
   "metadata": {},
   "outputs": [
    {
     "name": "stdout",
     "output_type": "stream",
     "text": [
      "Dice 0.6457802658734231 ± 0.18258652791296526 (higher is better, max=1)\n",
      "HD 13.198199446272987 mm ± 16.807798148735976 (lower is better, min=0)\n",
      "AVD 0.6731905153032185 % ± 0.4825491379752454 (lower is better, min=0)\n",
      "Lesion detection 0.6369182897494213 ± 0.2361027817472646 (higher is better, max=1)\n",
      "Lesion F1 0.6958568486735751 ± 0.18564552466453815 (higher is better, max=1)\n"
     ]
    }
   ],
   "source": [
    "adni2_uids = [430439, 394835, 296839, 377562, 341339, 357561, 396126, 263856, 398592, 350107, \n",
    "              398682, 272537, 361328, 324479,399365, 424871, 384305, 358958, 422919, 384916, 273453]\n",
    "dsc = []\n",
    "h95 = []\n",
    "avd = []\n",
    "recall = []\n",
    "f1 = []\n",
    "for uid in adni2_uids:\n",
    "    gt = set_orientation(nib.load(f\"/media/fabi/fabi/ADNI2/FLAIR/ADNI2_segmentations/{uid}_wmh.nii.gz\")).get_fdata()\n",
    "    #lpa = set_orientation(nib.load(f\"/media/fabi/fabi/ADNI2/FLAIR/LPA/{uid}/ples_lpa_m{uid}_FLAIR.nii\")).get_fdata()\n",
    "    #lpa = np.where(lpa > 0.45, 1, 0)\n",
    "    r_1 = nib.load(f\"/media/fabi/fabi/ADNI2/FLAIR/ADNI/{uid}/Results/FINAL/ADNI2/NO_LPA/3/output_var.nii.gz\").get_fdata()\n",
    "    r_1 = np.where(r_1 > 0.5, 1, 0)\n",
    "    testImage, resultImage = getImages(sitk.GetImageFromArray(gt), sitk.GetImageFromArray(r_1))\n",
    "    dsc.append(getDSC(testImage, resultImage))\n",
    "    h95.append(getHausdorff(testImage, resultImage))\n",
    "    avd.append(getlAVD(testImage, resultImage))\n",
    "    r, f = getLesionDetection(testImage, resultImage)    \n",
    "    recall.append(r)\n",
    "    f1.append(f)\n",
    "\n",
    "dsc = np.asarray(dsc)\n",
    "h95 = np.asarray(h95)\n",
    "avd = np.asarray(avd)\n",
    "recall = np.asarray(recall)\n",
    "f1 = np.asarray(f1)\n",
    "    \n",
    "print('Dice',                dsc.mean(), '±', dsc.std() ,      '(higher is better, max=1)')\n",
    "print('HD',                  h95.mean(), 'mm', '±', h95.std() , '(lower is better, min=0)')\n",
    "print('AVD',                 avd.mean(),  '%', '±', avd.std() , '(lower is better, min=0)')\n",
    "print('Lesion detection', recall.mean(),   '±', recall.std()  ,   '(higher is better, max=1)')\n",
    "print('Lesion F1',            f1.mean(),    '±', f1.std()   , '(higher is better, max=1)')"
   ]
  },
  {
   "cell_type": "code",
   "execution_count": null,
   "metadata": {},
   "outputs": [],
   "source": []
  }
 ],
 "metadata": {
  "kernelspec": {
   "display_name": "Python 3",
   "language": "python",
   "name": "python3"
  },
  "language_info": {
   "codemirror_mode": {
    "name": "ipython",
    "version": 3
   },
   "file_extension": ".py",
   "mimetype": "text/x-python",
   "name": "python",
   "nbconvert_exporter": "python",
   "pygments_lexer": "ipython3",
   "version": "3.8.5"
  }
 },
 "nbformat": 4,
 "nbformat_minor": 4
}
